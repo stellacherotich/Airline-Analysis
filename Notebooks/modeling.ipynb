{
 "cells": [
  {
   "cell_type": "code",
   "execution_count": 1,
   "metadata": {},
   "outputs": [
    {
     "name": "stderr",
     "output_type": "stream",
     "text": [
      "[nltk_data] Downloading package vader_lexicon to\n",
      "[nltk_data]     /Users/stella/nltk_data...\n",
      "[nltk_data]   Package vader_lexicon is already up-to-date!\n"
     ]
    }
   ],
   "source": [
    "import nltk\n",
    "nltk.download('vader_lexicon')\n",
    "import pandas as pd\n",
    "from sklearn.feature_extraction.text import CountVectorizer\n",
    "from sklearn.model_selection import train_test_split, GridSearchCV\n",
    "from xgboost import XGBClassifier\n",
    "from sklearn.metrics import accuracy_score, classification_report\n",
    "import os \n",
    "\n",
    "import warnings \n",
    "warnings.filterwarnings('ignore')\n"
   ]
  },
  {
   "cell_type": "code",
   "execution_count": 2,
   "metadata": {},
   "outputs": [],
   "source": [
    "cwd = \"/Users/stella/Downloads/Portfolio/Kenya-Airways-Analysis/\""
   ]
  },
  {
   "cell_type": "code",
   "execution_count": 3,
   "metadata": {},
   "outputs": [],
   "source": [
    "data = pd.read_csv(\"data/merged_output.csv\")"
   ]
  },
  {
   "cell_type": "code",
   "execution_count": 4,
   "metadata": {},
   "outputs": [],
   "source": [
    "# Class to describe the data \n",
    "class Describer:\n",
    "    \n",
    "    # initialize object\n",
    "    def __init__(self, data):\n",
    "        self.data = data\n",
    "        \n",
    "    # method to check shape of data\n",
    "    def shape(self):\n",
    "        shape_data = print(f\"The DataFrame has:\\n\\t* {self.data.shape[0]} rows\\n\\t* {self.data.shape[1]} columns\", '\\n')\n",
    "        return shape_data\n",
    "    \n",
    "    # method to check info on dataset\n",
    "    def data_info(self):\n",
    "        info_data = print(self.data.info(), '\\n')\n",
    "        return info_data\n",
    "    \n",
    "    # method to describe numerical columns\n",
    "    def data_describe(self):\n",
    "        num_col = self.data.describe()\n",
    "        return num_col"
   ]
  },
  {
   "cell_type": "code",
   "execution_count": 5,
   "metadata": {},
   "outputs": [
    {
     "name": "stdout",
     "output_type": "stream",
     "text": [
      "The DataFrame has:\n",
      "\t* 4917 rows\n",
      "\t* 7 columns \n",
      "\n"
     ]
    }
   ],
   "source": [
    "# Shape of the data \n",
    "\n",
    "# creating an instance of the class describer\n",
    "describe_data = Describer(data)\n",
    "\n",
    "# Viewing the shape of the data\n",
    "describe_data.shape()"
   ]
  },
  {
   "cell_type": "code",
   "execution_count": 6,
   "metadata": {},
   "outputs": [
    {
     "name": "stdout",
     "output_type": "stream",
     "text": [
      "Summary infomation on dataset\n",
      "-----------------------------------------------\n",
      "<class 'pandas.core.frame.DataFrame'>\n",
      "RangeIndex: 4917 entries, 0 to 4916\n",
      "Data columns (total 7 columns):\n",
      " #   Column          Non-Null Count  Dtype  \n",
      "---  ------          --------------  -----  \n",
      " 0   Unnamed: 0      4917 non-null   int64  \n",
      " 1   reviews         4917 non-null   object \n",
      " 2   date            4917 non-null   object \n",
      " 3   verified        4917 non-null   bool   \n",
      " 4   corpus          4917 non-null   object \n",
      " 5   sentiment       4917 non-null   float64\n",
      " 6   sentiment_type  4917 non-null   object \n",
      "dtypes: bool(1), float64(1), int64(1), object(4)\n",
      "memory usage: 235.4+ KB\n",
      "None \n",
      "\n"
     ]
    }
   ],
   "source": [
    "# summary information of the data\n",
    "print('Summary infomation on dataset')\n",
    "print('-----------------------------------------------')\n",
    "describe_data.data_info()"
   ]
  },
  {
   "cell_type": "code",
   "execution_count": 7,
   "metadata": {},
   "outputs": [
    {
     "data": {
      "text/html": [
       "<div>\n",
       "<style scoped>\n",
       "    .dataframe tbody tr th:only-of-type {\n",
       "        vertical-align: middle;\n",
       "    }\n",
       "\n",
       "    .dataframe tbody tr th {\n",
       "        vertical-align: top;\n",
       "    }\n",
       "\n",
       "    .dataframe thead th {\n",
       "        text-align: right;\n",
       "    }\n",
       "</style>\n",
       "<table border=\"1\" class=\"dataframe\">\n",
       "  <thead>\n",
       "    <tr style=\"text-align: right;\">\n",
       "      <th></th>\n",
       "      <th>Unnamed: 0</th>\n",
       "      <th>sentiment</th>\n",
       "    </tr>\n",
       "  </thead>\n",
       "  <tbody>\n",
       "    <tr>\n",
       "      <th>count</th>\n",
       "      <td>4917.000000</td>\n",
       "      <td>4917.000000</td>\n",
       "    </tr>\n",
       "    <tr>\n",
       "      <th>mean</th>\n",
       "      <td>1046.166158</td>\n",
       "      <td>0.364721</td>\n",
       "    </tr>\n",
       "    <tr>\n",
       "      <th>std</th>\n",
       "      <td>672.692823</td>\n",
       "      <td>0.743467</td>\n",
       "    </tr>\n",
       "    <tr>\n",
       "      <th>min</th>\n",
       "      <td>0.000000</td>\n",
       "      <td>-0.997800</td>\n",
       "    </tr>\n",
       "    <tr>\n",
       "      <th>25%</th>\n",
       "      <td>409.000000</td>\n",
       "      <td>-0.401900</td>\n",
       "    </tr>\n",
       "    <tr>\n",
       "      <th>50%</th>\n",
       "      <td>1019.000000</td>\n",
       "      <td>0.827100</td>\n",
       "    </tr>\n",
       "    <tr>\n",
       "      <th>75%</th>\n",
       "      <td>1634.000000</td>\n",
       "      <td>0.962300</td>\n",
       "    </tr>\n",
       "    <tr>\n",
       "      <th>max</th>\n",
       "      <td>2274.000000</td>\n",
       "      <td>0.999700</td>\n",
       "    </tr>\n",
       "  </tbody>\n",
       "</table>\n",
       "</div>"
      ],
      "text/plain": [
       "        Unnamed: 0    sentiment\n",
       "count  4917.000000  4917.000000\n",
       "mean   1046.166158     0.364721\n",
       "std     672.692823     0.743467\n",
       "min       0.000000    -0.997800\n",
       "25%     409.000000    -0.401900\n",
       "50%    1019.000000     0.827100\n",
       "75%    1634.000000     0.962300\n",
       "max    2274.000000     0.999700"
      ]
     },
     "execution_count": 7,
     "metadata": {},
     "output_type": "execute_result"
    }
   ],
   "source": [
    "# summary statistics\n",
    "describe_data.data_describe()"
   ]
  },
  {
   "cell_type": "code",
   "execution_count": 8,
   "metadata": {},
   "outputs": [
    {
     "data": {
      "text/html": [
       "<div>\n",
       "<style scoped>\n",
       "    .dataframe tbody tr th:only-of-type {\n",
       "        vertical-align: middle;\n",
       "    }\n",
       "\n",
       "    .dataframe tbody tr th {\n",
       "        vertical-align: top;\n",
       "    }\n",
       "\n",
       "    .dataframe thead th {\n",
       "        text-align: right;\n",
       "    }\n",
       "</style>\n",
       "<table border=\"1\" class=\"dataframe\">\n",
       "  <thead>\n",
       "    <tr style=\"text-align: right;\">\n",
       "      <th></th>\n",
       "      <th>Unnamed: 0</th>\n",
       "      <th>reviews</th>\n",
       "      <th>date</th>\n",
       "      <th>verified</th>\n",
       "      <th>corpus</th>\n",
       "      <th>sentiment</th>\n",
       "      <th>sentiment_type</th>\n",
       "    </tr>\n",
       "  </thead>\n",
       "  <tbody>\n",
       "    <tr>\n",
       "      <th>0</th>\n",
       "      <td>0</td>\n",
       "      <td>My family experienced very poor service with E...</td>\n",
       "      <td>2023-06-26</td>\n",
       "      <td>True</td>\n",
       "      <td>family experienced poor service emirate issue ...</td>\n",
       "      <td>-0.3804</td>\n",
       "      <td>negative</td>\n",
       "    </tr>\n",
       "    <tr>\n",
       "      <th>1</th>\n",
       "      <td>1</td>\n",
       "      <td>This review is to appreciate the service given...</td>\n",
       "      <td>2023-06-25</td>\n",
       "      <td>True</td>\n",
       "      <td>review appreciate service given emirate flying...</td>\n",
       "      <td>0.5994</td>\n",
       "      <td>positive</td>\n",
       "    </tr>\n",
       "    <tr>\n",
       "      <th>2</th>\n",
       "      <td>2</td>\n",
       "      <td>I'm motivated to write this critical review af...</td>\n",
       "      <td>2023-06-24</td>\n",
       "      <td>True</td>\n",
       "      <td>motivated write critical review multiple phone...</td>\n",
       "      <td>-0.9500</td>\n",
       "      <td>negative</td>\n",
       "    </tr>\n",
       "    <tr>\n",
       "      <th>3</th>\n",
       "      <td>3</td>\n",
       "      <td>Excellent service. I flew Dubai- B'Ham- Dubai ...</td>\n",
       "      <td>2023-06-24</td>\n",
       "      <td>True</td>\n",
       "      <td>excellent service flew dubai b ham dubai econo...</td>\n",
       "      <td>0.9811</td>\n",
       "      <td>positive</td>\n",
       "    </tr>\n",
       "    <tr>\n",
       "      <th>4</th>\n",
       "      <td>4</td>\n",
       "      <td>What a disappointment. Emirates is lauded as h...</td>\n",
       "      <td>2023-06-17</td>\n",
       "      <td>True</td>\n",
       "      <td>disappointment emirate lauded one best infligh...</td>\n",
       "      <td>0.8525</td>\n",
       "      <td>positive</td>\n",
       "    </tr>\n",
       "  </tbody>\n",
       "</table>\n",
       "</div>"
      ],
      "text/plain": [
       "   Unnamed: 0                                            reviews        date  \\\n",
       "0           0  My family experienced very poor service with E...  2023-06-26   \n",
       "1           1  This review is to appreciate the service given...  2023-06-25   \n",
       "2           2  I'm motivated to write this critical review af...  2023-06-24   \n",
       "3           3  Excellent service. I flew Dubai- B'Ham- Dubai ...  2023-06-24   \n",
       "4           4  What a disappointment. Emirates is lauded as h...  2023-06-17   \n",
       "\n",
       "   verified                                             corpus  sentiment  \\\n",
       "0      True  family experienced poor service emirate issue ...    -0.3804   \n",
       "1      True  review appreciate service given emirate flying...     0.5994   \n",
       "2      True  motivated write critical review multiple phone...    -0.9500   \n",
       "3      True  excellent service flew dubai b ham dubai econo...     0.9811   \n",
       "4      True  disappointment emirate lauded one best infligh...     0.8525   \n",
       "\n",
       "  sentiment_type  \n",
       "0       negative  \n",
       "1       positive  \n",
       "2       negative  \n",
       "3       positive  \n",
       "4       positive  "
      ]
     },
     "execution_count": 8,
     "metadata": {},
     "output_type": "execute_result"
    }
   ],
   "source": [
    "data.head()"
   ]
  },
  {
   "cell_type": "code",
   "execution_count": 9,
   "metadata": {},
   "outputs": [],
   "source": [
    "data.drop(columns=[\"Unnamed: 0\"], inplace=True)"
   ]
  },
  {
   "cell_type": "code",
   "execution_count": 10,
   "metadata": {},
   "outputs": [
    {
     "data": {
      "text/html": [
       "<div>\n",
       "<style scoped>\n",
       "    .dataframe tbody tr th:only-of-type {\n",
       "        vertical-align: middle;\n",
       "    }\n",
       "\n",
       "    .dataframe tbody tr th {\n",
       "        vertical-align: top;\n",
       "    }\n",
       "\n",
       "    .dataframe thead th {\n",
       "        text-align: right;\n",
       "    }\n",
       "</style>\n",
       "<table border=\"1\" class=\"dataframe\">\n",
       "  <thead>\n",
       "    <tr style=\"text-align: right;\">\n",
       "      <th></th>\n",
       "      <th>reviews</th>\n",
       "      <th>date</th>\n",
       "      <th>verified</th>\n",
       "      <th>corpus</th>\n",
       "      <th>sentiment</th>\n",
       "      <th>sentiment_type</th>\n",
       "    </tr>\n",
       "  </thead>\n",
       "  <tbody>\n",
       "    <tr>\n",
       "      <th>0</th>\n",
       "      <td>My family experienced very poor service with E...</td>\n",
       "      <td>2023-06-26</td>\n",
       "      <td>True</td>\n",
       "      <td>family experienced poor service emirate issue ...</td>\n",
       "      <td>-0.3804</td>\n",
       "      <td>negative</td>\n",
       "    </tr>\n",
       "    <tr>\n",
       "      <th>1</th>\n",
       "      <td>This review is to appreciate the service given...</td>\n",
       "      <td>2023-06-25</td>\n",
       "      <td>True</td>\n",
       "      <td>review appreciate service given emirate flying...</td>\n",
       "      <td>0.5994</td>\n",
       "      <td>positive</td>\n",
       "    </tr>\n",
       "    <tr>\n",
       "      <th>2</th>\n",
       "      <td>I'm motivated to write this critical review af...</td>\n",
       "      <td>2023-06-24</td>\n",
       "      <td>True</td>\n",
       "      <td>motivated write critical review multiple phone...</td>\n",
       "      <td>-0.9500</td>\n",
       "      <td>negative</td>\n",
       "    </tr>\n",
       "    <tr>\n",
       "      <th>3</th>\n",
       "      <td>Excellent service. I flew Dubai- B'Ham- Dubai ...</td>\n",
       "      <td>2023-06-24</td>\n",
       "      <td>True</td>\n",
       "      <td>excellent service flew dubai b ham dubai econo...</td>\n",
       "      <td>0.9811</td>\n",
       "      <td>positive</td>\n",
       "    </tr>\n",
       "    <tr>\n",
       "      <th>4</th>\n",
       "      <td>What a disappointment. Emirates is lauded as h...</td>\n",
       "      <td>2023-06-17</td>\n",
       "      <td>True</td>\n",
       "      <td>disappointment emirate lauded one best infligh...</td>\n",
       "      <td>0.8525</td>\n",
       "      <td>positive</td>\n",
       "    </tr>\n",
       "    <tr>\n",
       "      <th>...</th>\n",
       "      <td>...</td>\n",
       "      <td>...</td>\n",
       "      <td>...</td>\n",
       "      <td>...</td>\n",
       "      <td>...</td>\n",
       "      <td>...</td>\n",
       "    </tr>\n",
       "    <tr>\n",
       "      <th>4912</th>\n",
       "      <td>Flew first class CAI-DOH on QR503 on 8th Aug 2...</td>\n",
       "      <td>2013-08-12</td>\n",
       "      <td>False</td>\n",
       "      <td>flew first class cai doh qr th aug qatar vip l...</td>\n",
       "      <td>0.9780</td>\n",
       "      <td>positive</td>\n",
       "    </tr>\n",
       "    <tr>\n",
       "      <th>4913</th>\n",
       "      <td>MAD-DOH-DXB and back. Boeing 777 in MAD-DOH se...</td>\n",
       "      <td>2013-08-06</td>\n",
       "      <td>False</td>\n",
       "      <td>mad doh dxb back boeing mad doh sector nice sp...</td>\n",
       "      <td>-0.9092</td>\n",
       "      <td>negative</td>\n",
       "    </tr>\n",
       "    <tr>\n",
       "      <th>4914</th>\n",
       "      <td>GVA-AUH A320. Good food but after the main mea...</td>\n",
       "      <td>2013-08-06</td>\n",
       "      <td>False</td>\n",
       "      <td>gva auh good food main meal nothing else serve...</td>\n",
       "      <td>0.6597</td>\n",
       "      <td>positive</td>\n",
       "    </tr>\n",
       "    <tr>\n",
       "      <th>4915</th>\n",
       "      <td>I took a flight to London on 17th July with my...</td>\n",
       "      <td>2013-08-06</td>\n",
       "      <td>False</td>\n",
       "      <td>took flight london th july year old son wife t...</td>\n",
       "      <td>-0.6256</td>\n",
       "      <td>negative</td>\n",
       "    </tr>\n",
       "    <tr>\n",
       "      <th>4916</th>\n",
       "      <td>London Heathrow - Yangon via Doha return. Firs...</td>\n",
       "      <td>2013-08-05</td>\n",
       "      <td>False</td>\n",
       "      <td>london heathrow yangon via doha return first t...</td>\n",
       "      <td>-0.9851</td>\n",
       "      <td>negative</td>\n",
       "    </tr>\n",
       "  </tbody>\n",
       "</table>\n",
       "<p>4917 rows × 6 columns</p>\n",
       "</div>"
      ],
      "text/plain": [
       "                                                reviews        date  verified  \\\n",
       "0     My family experienced very poor service with E...  2023-06-26      True   \n",
       "1     This review is to appreciate the service given...  2023-06-25      True   \n",
       "2     I'm motivated to write this critical review af...  2023-06-24      True   \n",
       "3     Excellent service. I flew Dubai- B'Ham- Dubai ...  2023-06-24      True   \n",
       "4     What a disappointment. Emirates is lauded as h...  2023-06-17      True   \n",
       "...                                                 ...         ...       ...   \n",
       "4912  Flew first class CAI-DOH on QR503 on 8th Aug 2...  2013-08-12     False   \n",
       "4913  MAD-DOH-DXB and back. Boeing 777 in MAD-DOH se...  2013-08-06     False   \n",
       "4914  GVA-AUH A320. Good food but after the main mea...  2013-08-06     False   \n",
       "4915  I took a flight to London on 17th July with my...  2013-08-06     False   \n",
       "4916  London Heathrow - Yangon via Doha return. Firs...  2013-08-05     False   \n",
       "\n",
       "                                                 corpus  sentiment  \\\n",
       "0     family experienced poor service emirate issue ...    -0.3804   \n",
       "1     review appreciate service given emirate flying...     0.5994   \n",
       "2     motivated write critical review multiple phone...    -0.9500   \n",
       "3     excellent service flew dubai b ham dubai econo...     0.9811   \n",
       "4     disappointment emirate lauded one best infligh...     0.8525   \n",
       "...                                                 ...        ...   \n",
       "4912  flew first class cai doh qr th aug qatar vip l...     0.9780   \n",
       "4913  mad doh dxb back boeing mad doh sector nice sp...    -0.9092   \n",
       "4914  gva auh good food main meal nothing else serve...     0.6597   \n",
       "4915  took flight london th july year old son wife t...    -0.6256   \n",
       "4916  london heathrow yangon via doha return first t...    -0.9851   \n",
       "\n",
       "     sentiment_type  \n",
       "0          negative  \n",
       "1          positive  \n",
       "2          negative  \n",
       "3          positive  \n",
       "4          positive  \n",
       "...             ...  \n",
       "4912       positive  \n",
       "4913       negative  \n",
       "4914       positive  \n",
       "4915       negative  \n",
       "4916       negative  \n",
       "\n",
       "[4917 rows x 6 columns]"
      ]
     },
     "execution_count": 10,
     "metadata": {},
     "output_type": "execute_result"
    }
   ],
   "source": [
    "# Checking the drop of the column\n",
    "\n",
    "data"
   ]
  },
  {
   "cell_type": "code",
   "execution_count": 11,
   "metadata": {},
   "outputs": [
    {
     "data": {
      "text/plain": [
       " 1    0.667684\n",
       "-1    0.306691\n",
       " 0    0.025625\n",
       "Name: sentiment, dtype: float64"
      ]
     },
     "execution_count": 11,
     "metadata": {},
     "output_type": "execute_result"
    }
   ],
   "source": [
    "# Convert continuous sentiment scores to categorical labels\n",
    "data['sentiment'] = data['sentiment'].apply(lambda x: 1 if x > 0.2 else (-1 if x < 0 else 0))\n",
    "data['sentiment'].value_counts(normalize=True)"
   ]
  },
  {
   "cell_type": "code",
   "execution_count": 12,
   "metadata": {},
   "outputs": [],
   "source": [
    "# Training and Test split\n",
    "\n",
    "X = data['corpus']  # Features\n",
    "y = data['sentiment']   # Target variable\n",
    "\n",
    "X_train, X_test, y_train, y_test = train_test_split(X, y, test_size=0.2, random_state=42)"
   ]
  },
  {
   "cell_type": "code",
   "execution_count": 13,
   "metadata": {},
   "outputs": [],
   "source": [
    "# Feature Extraction\n",
    "vect = CountVectorizer()\n",
    "x_train_vect = vect.fit_transform(X_train)\n",
    "x_test_vect = vect.transform(X_test)"
   ]
  },
  {
   "cell_type": "markdown",
   "metadata": {},
   "source": [
    "## <b> Modeling </b>\n",
    "\n",
    "Baseline model"
   ]
  },
  {
   "cell_type": "code",
   "execution_count": 14,
   "metadata": {},
   "outputs": [
    {
     "data": {
      "text/html": [
       "<style>#sk-container-id-1 {color: black;background-color: white;}#sk-container-id-1 pre{padding: 0;}#sk-container-id-1 div.sk-toggleable {background-color: white;}#sk-container-id-1 label.sk-toggleable__label {cursor: pointer;display: block;width: 100%;margin-bottom: 0;padding: 0.3em;box-sizing: border-box;text-align: center;}#sk-container-id-1 label.sk-toggleable__label-arrow:before {content: \"▸\";float: left;margin-right: 0.25em;color: #696969;}#sk-container-id-1 label.sk-toggleable__label-arrow:hover:before {color: black;}#sk-container-id-1 div.sk-estimator:hover label.sk-toggleable__label-arrow:before {color: black;}#sk-container-id-1 div.sk-toggleable__content {max-height: 0;max-width: 0;overflow: hidden;text-align: left;background-color: #f0f8ff;}#sk-container-id-1 div.sk-toggleable__content pre {margin: 0.2em;color: black;border-radius: 0.25em;background-color: #f0f8ff;}#sk-container-id-1 input.sk-toggleable__control:checked~div.sk-toggleable__content {max-height: 200px;max-width: 100%;overflow: auto;}#sk-container-id-1 input.sk-toggleable__control:checked~label.sk-toggleable__label-arrow:before {content: \"▾\";}#sk-container-id-1 div.sk-estimator input.sk-toggleable__control:checked~label.sk-toggleable__label {background-color: #d4ebff;}#sk-container-id-1 div.sk-label input.sk-toggleable__control:checked~label.sk-toggleable__label {background-color: #d4ebff;}#sk-container-id-1 input.sk-hidden--visually {border: 0;clip: rect(1px 1px 1px 1px);clip: rect(1px, 1px, 1px, 1px);height: 1px;margin: -1px;overflow: hidden;padding: 0;position: absolute;width: 1px;}#sk-container-id-1 div.sk-estimator {font-family: monospace;background-color: #f0f8ff;border: 1px dotted black;border-radius: 0.25em;box-sizing: border-box;margin-bottom: 0.5em;}#sk-container-id-1 div.sk-estimator:hover {background-color: #d4ebff;}#sk-container-id-1 div.sk-parallel-item::after {content: \"\";width: 100%;border-bottom: 1px solid gray;flex-grow: 1;}#sk-container-id-1 div.sk-label:hover label.sk-toggleable__label {background-color: #d4ebff;}#sk-container-id-1 div.sk-serial::before {content: \"\";position: absolute;border-left: 1px solid gray;box-sizing: border-box;top: 0;bottom: 0;left: 50%;z-index: 0;}#sk-container-id-1 div.sk-serial {display: flex;flex-direction: column;align-items: center;background-color: white;padding-right: 0.2em;padding-left: 0.2em;position: relative;}#sk-container-id-1 div.sk-item {position: relative;z-index: 1;}#sk-container-id-1 div.sk-parallel {display: flex;align-items: stretch;justify-content: center;background-color: white;position: relative;}#sk-container-id-1 div.sk-item::before, #sk-container-id-1 div.sk-parallel-item::before {content: \"\";position: absolute;border-left: 1px solid gray;box-sizing: border-box;top: 0;bottom: 0;left: 50%;z-index: -1;}#sk-container-id-1 div.sk-parallel-item {display: flex;flex-direction: column;z-index: 1;position: relative;background-color: white;}#sk-container-id-1 div.sk-parallel-item:first-child::after {align-self: flex-end;width: 50%;}#sk-container-id-1 div.sk-parallel-item:last-child::after {align-self: flex-start;width: 50%;}#sk-container-id-1 div.sk-parallel-item:only-child::after {width: 0;}#sk-container-id-1 div.sk-dashed-wrapped {border: 1px dashed gray;margin: 0 0.4em 0.5em 0.4em;box-sizing: border-box;padding-bottom: 0.4em;background-color: white;}#sk-container-id-1 div.sk-label label {font-family: monospace;font-weight: bold;display: inline-block;line-height: 1.2em;}#sk-container-id-1 div.sk-label-container {text-align: center;}#sk-container-id-1 div.sk-container {/* jupyter's `normalize.less` sets `[hidden] { display: none; }` but bootstrap.min.css set `[hidden] { display: none !important; }` so we also need the `!important` here to be able to override the default hidden behavior on the sphinx rendered scikit-learn.org. See: https://github.com/scikit-learn/scikit-learn/issues/21755 */display: inline-block !important;position: relative;}#sk-container-id-1 div.sk-text-repr-fallback {display: none;}</style><div id=\"sk-container-id-1\" class=\"sk-top-container\"><div class=\"sk-text-repr-fallback\"><pre>LogisticRegression()</pre><b>In a Jupyter environment, please rerun this cell to show the HTML representation or trust the notebook. <br />On GitHub, the HTML representation is unable to render, please try loading this page with nbviewer.org.</b></div><div class=\"sk-container\" hidden><div class=\"sk-item\"><div class=\"sk-estimator sk-toggleable\"><input class=\"sk-toggleable__control sk-hidden--visually\" id=\"sk-estimator-id-1\" type=\"checkbox\" checked><label for=\"sk-estimator-id-1\" class=\"sk-toggleable__label sk-toggleable__label-arrow\">LogisticRegression</label><div class=\"sk-toggleable__content\"><pre>LogisticRegression()</pre></div></div></div></div></div>"
      ],
      "text/plain": [
       "LogisticRegression()"
      ]
     },
     "execution_count": 14,
     "metadata": {},
     "output_type": "execute_result"
    }
   ],
   "source": [
    "from sklearn.linear_model import LogisticRegression\n",
    "\n",
    "model = LogisticRegression()\n",
    "model.fit(x_train_vect, y_train)"
   ]
  },
  {
   "cell_type": "code",
   "execution_count": 15,
   "metadata": {},
   "outputs": [
    {
     "name": "stdout",
     "output_type": "stream",
     "text": [
      "Accuracy: 0.8384146341463414\n",
      "Classification Report:\n",
      "              precision    recall  f1-score   support\n",
      "\n",
      "          -1       0.77      0.75      0.76       307\n",
      "           0       0.00      0.00      0.00        22\n",
      "           1       0.87      0.91      0.89       655\n",
      "\n",
      "    accuracy                           0.84       984\n",
      "   macro avg       0.55      0.55      0.55       984\n",
      "weighted avg       0.82      0.84      0.83       984\n",
      "\n"
     ]
    }
   ],
   "source": [
    "# Model Evaluation\n",
    "y_pred = model.predict(x_test_vect)\n",
    "accuracy = accuracy_score(y_test, y_pred)\n",
    "print(\"Accuracy:\", accuracy)\n",
    "print(\"Classification Report:\")\n",
    "print(classification_report(y_test, y_pred))"
   ]
  },
  {
   "cell_type": "markdown",
   "metadata": {},
   "source": [
    "Based on this we note that the baseline model has an accuracy score of 83% \n",
    "\n",
    "We will try using other model to see if the scores improve by using other models"
   ]
  },
  {
   "cell_type": "code",
   "execution_count": 18,
   "metadata": {},
   "outputs": [],
   "source": [
    "from sklearn.tree import DecisionTreeClassifier\n",
    "from sklearn.ensemble import RandomForestClassifier\n",
    "from sklearn.svm import SVC"
   ]
  },
  {
   "cell_type": "code",
   "execution_count": 19,
   "metadata": {},
   "outputs": [
    {
     "name": "stdout",
     "output_type": "stream",
     "text": [
      "Decision Tree Accuracy: 0.7266260162601627\n",
      "Decision Tree Classification Report:\n",
      "              precision    recall  f1-score   support\n",
      "\n",
      "          -1       0.59      0.59      0.59       307\n",
      "           0       0.00      0.00      0.00        22\n",
      "           1       0.81      0.81      0.81       655\n",
      "\n",
      "    accuracy                           0.73       984\n",
      "   macro avg       0.47      0.47      0.47       984\n",
      "weighted avg       0.72      0.73      0.72       984\n",
      "\n"
     ]
    }
   ],
   "source": [
    "# Decision Tree\n",
    "dt_model = DecisionTreeClassifier()\n",
    "dt_model.fit(x_train_vect, y_train)\n",
    "\n",
    "# Model Evaluation\n",
    "\n",
    "dt_y_pred = dt_model.predict(x_test_vect)\n",
    "dt_accuracy = accuracy_score(y_test, dt_y_pred)\n",
    "print(\"Decision Tree Accuracy:\", dt_accuracy)\n",
    "print(\"Decision Tree Classification Report:\")\n",
    "print(classification_report(y_test, dt_y_pred))\n"
   ]
  },
  {
   "cell_type": "code",
   "execution_count": 20,
   "metadata": {},
   "outputs": [
    {
     "name": "stdout",
     "output_type": "stream",
     "text": [
      "Random Forest Accuracy: 0.7997967479674797\n",
      "Random Forest Classification Report:\n",
      "              precision    recall  f1-score   support\n",
      "\n",
      "          -1       0.81      0.54      0.65       307\n",
      "           0       0.00      0.00      0.00        22\n",
      "           1       0.80      0.95      0.87       655\n",
      "\n",
      "    accuracy                           0.80       984\n",
      "   macro avg       0.54      0.50      0.51       984\n",
      "weighted avg       0.78      0.80      0.78       984\n",
      "\n"
     ]
    }
   ],
   "source": [
    "# Random Forest\n",
    "rf_model = RandomForestClassifier()\n",
    "rf_model.fit(x_train_vect, y_train)\n",
    "\n",
    "# Model Evaluation\n",
    "\n",
    "rf_y_pred = rf_model.predict(x_test_vect)\n",
    "rf_accuracy = accuracy_score(y_test, rf_y_pred)\n",
    "print(\"Random Forest Accuracy:\", rf_accuracy)\n",
    "print(\"Random Forest Classification Report:\")\n",
    "print(classification_report(y_test, rf_y_pred))\n"
   ]
  },
  {
   "cell_type": "code",
   "execution_count": 21,
   "metadata": {},
   "outputs": [
    {
     "name": "stdout",
     "output_type": "stream",
     "text": [
      "SVM Accuracy: 0.8211382113821138\n",
      "SVM Classification Report:\n",
      "              precision    recall  f1-score   support\n",
      "\n",
      "          -1       0.77      0.67      0.72       307\n",
      "           0       0.00      0.00      0.00        22\n",
      "           1       0.84      0.92      0.88       655\n",
      "\n",
      "    accuracy                           0.82       984\n",
      "   macro avg       0.54      0.53      0.53       984\n",
      "weighted avg       0.80      0.82      0.81       984\n",
      "\n"
     ]
    }
   ],
   "source": [
    "# Support Vector Machine (SVM)\n",
    "svm_model = SVC()\n",
    "svm_model.fit(x_train_vect, y_train)\n",
    "\n",
    "# Model Evaluation\n",
    "\n",
    "svm_y_pred = svm_model.predict(x_test_vect)\n",
    "svm_accuracy = accuracy_score(y_test, svm_y_pred)\n",
    "print(\"SVM Accuracy:\", svm_accuracy)\n",
    "print(\"SVM Classification Report:\")\n",
    "print(classification_report(y_test, svm_y_pred))"
   ]
  },
  {
   "cell_type": "code",
   "execution_count": 22,
   "metadata": {},
   "outputs": [
    {
     "name": "stdout",
     "output_type": "stream",
     "text": [
      "Accuracy: 0.8211382113821138\n",
      "Classification Report:\n",
      "              precision    recall  f1-score   support\n",
      "\n",
      "          -1       0.77      0.67      0.72       307\n",
      "           0       0.00      0.00      0.00        22\n",
      "           1       0.84      0.92      0.88       655\n",
      "\n",
      "    accuracy                           0.82       984\n",
      "   macro avg       0.54      0.53      0.53       984\n",
      "weighted avg       0.80      0.82      0.81       984\n",
      "\n"
     ]
    }
   ],
   "source": [
    "from sklearn.pipeline import Pipeline\n",
    "\n",
    "pipeline = Pipeline([\n",
    "    ('vectorizer', CountVectorizer()),\n",
    "    ('svm', SVC())\n",
    "])\n",
    "\n",
    "# Train the pipeline on the training data\n",
    "pipeline.fit(X_train, y_train)\n",
    "\n",
    "# Predictions on the testing data\n",
    "y_pred = pipeline.predict(X_test)\n",
    "\n",
    "# Model Evaluation\n",
    "accuracy = accuracy_score(y_test, y_pred)\n",
    "print(\"Accuracy:\", accuracy)\n",
    "print(\"Classification Report:\")\n",
    "print(classification_report(y_test, y_pred))"
   ]
  },
  {
   "cell_type": "code",
   "execution_count": 23,
   "metadata": {},
   "outputs": [],
   "source": [
    "import pickle\n",
    "\n",
    "with open('sentiment_pipeline.pkl', 'wb') as file:\n",
    "    pickle.dump(pipeline, file)"
   ]
  }
 ],
 "metadata": {
  "kernelspec": {
   "display_name": "Python (learn-env)",
   "language": "python",
   "name": "learn-env"
  },
  "language_info": {
   "codemirror_mode": {
    "name": "ipython",
    "version": 3
   },
   "file_extension": ".py",
   "mimetype": "text/x-python",
   "name": "python",
   "nbconvert_exporter": "python",
   "pygments_lexer": "ipython3",
   "version": "3.8.5"
  },
  "orig_nbformat": 4
 },
 "nbformat": 4,
 "nbformat_minor": 2
}
